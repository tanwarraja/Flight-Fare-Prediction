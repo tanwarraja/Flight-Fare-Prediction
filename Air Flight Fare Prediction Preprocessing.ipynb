{
 "cells": [
  {
   "cell_type": "code",
   "execution_count": 224,
   "metadata": {},
   "outputs": [],
   "source": [
    "import pandas as pd\n",
    "import numpy as np"
   ]
  },
  {
   "cell_type": "code",
   "execution_count": 225,
   "metadata": {},
   "outputs": [],
   "source": [
    "#Data_Train = pd.read_excel('Data_Train.xlsx')\n",
    "Data_Train = pd.read_excel('Test_set.xlsx')"
   ]
  },
  {
   "cell_type": "code",
   "execution_count": 226,
   "metadata": {},
   "outputs": [],
   "source": [
    "pd.set_option('display.max_columns', None)"
   ]
  },
  {
   "cell_type": "code",
   "execution_count": 227,
   "metadata": {},
   "outputs": [
    {
     "data": {
      "text/html": [
       "<div>\n",
       "<style scoped>\n",
       "    .dataframe tbody tr th:only-of-type {\n",
       "        vertical-align: middle;\n",
       "    }\n",
       "\n",
       "    .dataframe tbody tr th {\n",
       "        vertical-align: top;\n",
       "    }\n",
       "\n",
       "    .dataframe thead th {\n",
       "        text-align: right;\n",
       "    }\n",
       "</style>\n",
       "<table border=\"1\" class=\"dataframe\">\n",
       "  <thead>\n",
       "    <tr style=\"text-align: right;\">\n",
       "      <th></th>\n",
       "      <th>Airline</th>\n",
       "      <th>Date_of_Journey</th>\n",
       "      <th>Source</th>\n",
       "      <th>Destination</th>\n",
       "      <th>Route</th>\n",
       "      <th>Dep_Time</th>\n",
       "      <th>Arrival_Time</th>\n",
       "      <th>Duration</th>\n",
       "      <th>Total_Stops</th>\n",
       "      <th>Additional_Info</th>\n",
       "    </tr>\n",
       "  </thead>\n",
       "  <tbody>\n",
       "    <tr>\n",
       "      <th>0</th>\n",
       "      <td>Jet Airways</td>\n",
       "      <td>6/06/2019</td>\n",
       "      <td>Delhi</td>\n",
       "      <td>Cochin</td>\n",
       "      <td>DEL → BOM → COK</td>\n",
       "      <td>17:30</td>\n",
       "      <td>04:25 07 Jun</td>\n",
       "      <td>10h 55m</td>\n",
       "      <td>1 stop</td>\n",
       "      <td>No info</td>\n",
       "    </tr>\n",
       "    <tr>\n",
       "      <th>1</th>\n",
       "      <td>IndiGo</td>\n",
       "      <td>12/05/2019</td>\n",
       "      <td>Kolkata</td>\n",
       "      <td>Banglore</td>\n",
       "      <td>CCU → MAA → BLR</td>\n",
       "      <td>06:20</td>\n",
       "      <td>10:20</td>\n",
       "      <td>4h</td>\n",
       "      <td>1 stop</td>\n",
       "      <td>No info</td>\n",
       "    </tr>\n",
       "    <tr>\n",
       "      <th>2</th>\n",
       "      <td>Jet Airways</td>\n",
       "      <td>21/05/2019</td>\n",
       "      <td>Delhi</td>\n",
       "      <td>Cochin</td>\n",
       "      <td>DEL → BOM → COK</td>\n",
       "      <td>19:15</td>\n",
       "      <td>19:00 22 May</td>\n",
       "      <td>23h 45m</td>\n",
       "      <td>1 stop</td>\n",
       "      <td>In-flight meal not included</td>\n",
       "    </tr>\n",
       "    <tr>\n",
       "      <th>3</th>\n",
       "      <td>Multiple carriers</td>\n",
       "      <td>21/05/2019</td>\n",
       "      <td>Delhi</td>\n",
       "      <td>Cochin</td>\n",
       "      <td>DEL → BOM → COK</td>\n",
       "      <td>08:00</td>\n",
       "      <td>21:00</td>\n",
       "      <td>13h</td>\n",
       "      <td>1 stop</td>\n",
       "      <td>No info</td>\n",
       "    </tr>\n",
       "    <tr>\n",
       "      <th>4</th>\n",
       "      <td>Air Asia</td>\n",
       "      <td>24/06/2019</td>\n",
       "      <td>Banglore</td>\n",
       "      <td>Delhi</td>\n",
       "      <td>BLR → DEL</td>\n",
       "      <td>23:55</td>\n",
       "      <td>02:45 25 Jun</td>\n",
       "      <td>2h 50m</td>\n",
       "      <td>non-stop</td>\n",
       "      <td>No info</td>\n",
       "    </tr>\n",
       "    <tr>\n",
       "      <th>...</th>\n",
       "      <td>...</td>\n",
       "      <td>...</td>\n",
       "      <td>...</td>\n",
       "      <td>...</td>\n",
       "      <td>...</td>\n",
       "      <td>...</td>\n",
       "      <td>...</td>\n",
       "      <td>...</td>\n",
       "      <td>...</td>\n",
       "      <td>...</td>\n",
       "    </tr>\n",
       "    <tr>\n",
       "      <th>2666</th>\n",
       "      <td>Air India</td>\n",
       "      <td>6/06/2019</td>\n",
       "      <td>Kolkata</td>\n",
       "      <td>Banglore</td>\n",
       "      <td>CCU → DEL → BLR</td>\n",
       "      <td>20:30</td>\n",
       "      <td>20:25 07 Jun</td>\n",
       "      <td>23h 55m</td>\n",
       "      <td>1 stop</td>\n",
       "      <td>No info</td>\n",
       "    </tr>\n",
       "    <tr>\n",
       "      <th>2667</th>\n",
       "      <td>IndiGo</td>\n",
       "      <td>27/03/2019</td>\n",
       "      <td>Kolkata</td>\n",
       "      <td>Banglore</td>\n",
       "      <td>CCU → BLR</td>\n",
       "      <td>14:20</td>\n",
       "      <td>16:55</td>\n",
       "      <td>2h 35m</td>\n",
       "      <td>non-stop</td>\n",
       "      <td>No info</td>\n",
       "    </tr>\n",
       "    <tr>\n",
       "      <th>2668</th>\n",
       "      <td>Jet Airways</td>\n",
       "      <td>6/03/2019</td>\n",
       "      <td>Delhi</td>\n",
       "      <td>Cochin</td>\n",
       "      <td>DEL → BOM → COK</td>\n",
       "      <td>21:50</td>\n",
       "      <td>04:25 07 Mar</td>\n",
       "      <td>6h 35m</td>\n",
       "      <td>1 stop</td>\n",
       "      <td>No info</td>\n",
       "    </tr>\n",
       "    <tr>\n",
       "      <th>2669</th>\n",
       "      <td>Air India</td>\n",
       "      <td>6/03/2019</td>\n",
       "      <td>Delhi</td>\n",
       "      <td>Cochin</td>\n",
       "      <td>DEL → BOM → COK</td>\n",
       "      <td>04:00</td>\n",
       "      <td>19:15</td>\n",
       "      <td>15h 15m</td>\n",
       "      <td>1 stop</td>\n",
       "      <td>No info</td>\n",
       "    </tr>\n",
       "    <tr>\n",
       "      <th>2670</th>\n",
       "      <td>Multiple carriers</td>\n",
       "      <td>15/06/2019</td>\n",
       "      <td>Delhi</td>\n",
       "      <td>Cochin</td>\n",
       "      <td>DEL → BOM → COK</td>\n",
       "      <td>04:55</td>\n",
       "      <td>19:15</td>\n",
       "      <td>14h 20m</td>\n",
       "      <td>1 stop</td>\n",
       "      <td>No info</td>\n",
       "    </tr>\n",
       "  </tbody>\n",
       "</table>\n",
       "<p>2671 rows × 10 columns</p>\n",
       "</div>"
      ],
      "text/plain": [
       "                Airline Date_of_Journey    Source Destination  \\\n",
       "0           Jet Airways       6/06/2019     Delhi      Cochin   \n",
       "1                IndiGo      12/05/2019   Kolkata    Banglore   \n",
       "2           Jet Airways      21/05/2019     Delhi      Cochin   \n",
       "3     Multiple carriers      21/05/2019     Delhi      Cochin   \n",
       "4              Air Asia      24/06/2019  Banglore       Delhi   \n",
       "...                 ...             ...       ...         ...   \n",
       "2666          Air India       6/06/2019   Kolkata    Banglore   \n",
       "2667             IndiGo      27/03/2019   Kolkata    Banglore   \n",
       "2668        Jet Airways       6/03/2019     Delhi      Cochin   \n",
       "2669          Air India       6/03/2019     Delhi      Cochin   \n",
       "2670  Multiple carriers      15/06/2019     Delhi      Cochin   \n",
       "\n",
       "                Route Dep_Time  Arrival_Time Duration Total_Stops  \\\n",
       "0     DEL → BOM → COK    17:30  04:25 07 Jun  10h 55m      1 stop   \n",
       "1     CCU → MAA → BLR    06:20         10:20       4h      1 stop   \n",
       "2     DEL → BOM → COK    19:15  19:00 22 May  23h 45m      1 stop   \n",
       "3     DEL → BOM → COK    08:00         21:00      13h      1 stop   \n",
       "4           BLR → DEL    23:55  02:45 25 Jun   2h 50m    non-stop   \n",
       "...               ...      ...           ...      ...         ...   \n",
       "2666  CCU → DEL → BLR    20:30  20:25 07 Jun  23h 55m      1 stop   \n",
       "2667        CCU → BLR    14:20         16:55   2h 35m    non-stop   \n",
       "2668  DEL → BOM → COK    21:50  04:25 07 Mar   6h 35m      1 stop   \n",
       "2669  DEL → BOM → COK    04:00         19:15  15h 15m      1 stop   \n",
       "2670  DEL → BOM → COK    04:55         19:15  14h 20m      1 stop   \n",
       "\n",
       "                  Additional_Info  \n",
       "0                         No info  \n",
       "1                         No info  \n",
       "2     In-flight meal not included  \n",
       "3                         No info  \n",
       "4                         No info  \n",
       "...                           ...  \n",
       "2666                      No info  \n",
       "2667                      No info  \n",
       "2668                      No info  \n",
       "2669                      No info  \n",
       "2670                      No info  \n",
       "\n",
       "[2671 rows x 10 columns]"
      ]
     },
     "execution_count": 227,
     "metadata": {},
     "output_type": "execute_result"
    }
   ],
   "source": [
    "Data_Train"
   ]
  },
  {
   "cell_type": "code",
   "execution_count": 208,
   "metadata": {},
   "outputs": [
    {
     "data": {
      "text/plain": [
       "Airline            0\n",
       "Date_of_Journey    0\n",
       "Source             0\n",
       "Destination        0\n",
       "Route              0\n",
       "Dep_Time           0\n",
       "Arrival_Time       0\n",
       "Duration           0\n",
       "Total_Stops        0\n",
       "Additional_Info    0\n",
       "dtype: int64"
      ]
     },
     "execution_count": 208,
     "metadata": {},
     "output_type": "execute_result"
    }
   ],
   "source": [
    "# Data Preprocessing\n",
    "\n",
    "Data_Train.isnull().sum()"
   ]
  },
  {
   "cell_type": "code",
   "execution_count": 209,
   "metadata": {},
   "outputs": [
    {
     "data": {
      "text/plain": [
       "No info                         2148\n",
       "In-flight meal not included      444\n",
       "No check-in baggage included      76\n",
       "Business class                     1\n",
       "Change airports                    1\n",
       "1 Long layover                     1\n",
       "Name: Additional_Info, dtype: int64"
      ]
     },
     "execution_count": 209,
     "metadata": {},
     "output_type": "execute_result"
    }
   ],
   "source": [
    "Data_Train['Additional_Info'].value_counts()\n",
    "\n",
    "# Have to Remove 'No info' Category"
   ]
  },
  {
   "cell_type": "code",
   "execution_count": 210,
   "metadata": {},
   "outputs": [
    {
     "data": {
      "text/plain": [
       "array(['10h 55m', '4h', '23h 45m', '13h', '2h 50m', '18h 20m', '15h 5m',\n",
       "       '5h 15m', '2h 45m', '6h 5m', '28h 55m', '9h 20m', '10h 15m',\n",
       "       '4h 40m', '17h 20m', '10h 50m', '9h 15m', '12h 15m', '9h 10m',\n",
       "       '14h 50m', '14h 5m', '11h 35m', '13h 30m', '12h 25m', '2h 30m',\n",
       "       '25h 30m', '19h 25m', '7h', '11h 40m', '7h 5m', '3h', '1h 25m',\n",
       "       '2h 40m', '17h 5m', '10h 40m', '12h 30m', '1h 30m', '23h 40m',\n",
       "       '2h 20m', '23h 35m', '27h 40m', '28h 20m', '5h 45m', '26h 25m',\n",
       "       '5h 40m', '2h 15m', '2h 55m', '7h 30m', '5h 20m', '25h 50m',\n",
       "       '13h 15m', '26h 20m', '5h 25m', '8h 45m', '7h 20m', '21h 10m',\n",
       "       '16h', '7h 50m', '16h 5m', '5h 55m', '13h 50m', '11h 55m',\n",
       "       '13h 20m', '18h 10m', '28h 10m', '5h', '23h 15m', '1h 15m',\n",
       "       '1h 20m', '13h 25m', '6h 15m', '10h 10m', '4h 35m', '11h',\n",
       "       '12h 20m', '15h 10m', '19h', '13h 45m', '9h 50m', '2h 35m',\n",
       "       '7h 15m', '23h', '10h 25m', '5h 5m', '22h 45m', '8h 40m',\n",
       "       '11h 30m', '15h 40m', '7h 55m', '12h 50m', '25h 25m', '10h 20m',\n",
       "       '8h 30m', '12h 45m', '12h 10m', '22h 30m', '7h 45m', '21h 55m',\n",
       "       '6h 30m', '2h 25m', '25h 45m', '33h 20m', '11h 25m', '15h 15m',\n",
       "       '14h 30m', '8h', '21h 15m', '26h 50m', '16h 50m', '9h 5m',\n",
       "       '16h 45m', '11h 15m', '22h 55m', '17h 45m', '23h 10m', '25h 20m',\n",
       "       '23h 50m', '14h 25m', '24h 50m', '10h 30m', '19h 40m', '6h 20m',\n",
       "       '27h 20m', '9h 25m', '5h 10m', '7h 40m', '6h 35m', '28h 50m',\n",
       "       '14h 35m', '19h 55m', '38h', '4h 45m', '6h 25m', '21h 40m',\n",
       "       '3h 5m', '4h 55m', '16h 10m', '6h 45m', '11h 45m', '6h', '22h 25m',\n",
       "       '19h 10m', '24h', '14h 40m', '20h 30m', '16h 15m', '8h 15m',\n",
       "       '8h 25m', '23h 5m', '19h 30m', '25h 10m', '21h 25m', '4h 50m',\n",
       "       '18h 25m', '4h 5m', '16h 40m', '28h', '24h 55m', '6h 55m',\n",
       "       '8h 20m', '26h', '9h', '20h 55m', '23h 20m', '27h 35m', '21h 35m',\n",
       "       '15h 30m', '14h', '28h 40m', '14h 45m', '11h 10m', '20h',\n",
       "       '24h 15m', '12h', '20h 10m', '27h 45m', '20h 35m', '11h 5m',\n",
       "       '12h 35m', '25h', '10h', '18h 50m', '18h 45m', '8h 5m', '4h 25m',\n",
       "       '14h 55m', '22h 5m', '9h 45m', '25h 55m', '25h 5m', '4h 10m',\n",
       "       '9h 35m', '26h 55m', '11h 50m', '7h 35m', '5h 35m', '5h 30m',\n",
       "       '35h 35m', '17h 15m', '15h 45m', '3h 15m', '16h 25m', '25h 40m',\n",
       "       '12h 40m', '12h 55m', '10h 35m', '31h 55m', '20h 45m', '38h 15m',\n",
       "       '24h 45m', '1h 35m', '24h 30m', '34h 30m', '23h 30m', '6h 10m',\n",
       "       '9h 30m', '8h 55m', '26h 35m', '15h 35m', '5h 50m', '20h 20m',\n",
       "       '23h 55m', '22h 10m', '20h 15m', '13h 55m', '3h 40m', '33h 15m',\n",
       "       '25h 35m', '17h 55m', '24h 10m', '29h 35m', '27h 5m', '15h 25m',\n",
       "       '3h 10m', '13h 35m', '8h 50m', '6h 40m', '30h 20m', '15h 55m',\n",
       "       '21h 5m', '26h 40m', '37h 20m', '29h 20m', '13h 5m', '29h 40m',\n",
       "       '10h 5m', '4h 30m', '21h 20m', '13h 10m', '17h 35m', '33h 45m',\n",
       "       '6h 50m', '26h 10m', '16h 35m', '36h 25m', '3h 45m', '14h 20m',\n",
       "       '22h 15m', '17h 25m', '31h 10m', '24h 5m', '20h 25m', '18h 30m',\n",
       "       '26h 15m', '30h 40m', '30h', '27h 10m', '24h 40m', '15h 20m',\n",
       "       '7h 10m', '28h 15m', '14h 10m', '18h 40m', '27h 50m', '8h 10m',\n",
       "       '39h 5m', '16h 20m', '12h 5m', '19h 15m', '29h 55m', '27h',\n",
       "       '30h 45m', '29h 5m', '32h 5m', '32h 20m', '15h', '15h 50m',\n",
       "       '22h 40m', '19h 45m', '30h 30m', '18h', '28h 5m', '24h 25m',\n",
       "       '9h 40m', '24h 35m', '21h 45m', '10h 45m', '17h 40m', '16h 30m',\n",
       "       '27h 55m', '16h 55m', '8h 35m', '26h 30m', '30h 25m', '27h 30m',\n",
       "       '26h 5m', '22h', '19h 5m', '11h 20m', '40h 40m', '22h 50m',\n",
       "       '32h 25m', '17h 30m', '7h 25m', '4h 20m', '24h 20m', '38h 35m',\n",
       "       '9h 55m', '38h 20m', '5m'], dtype=object)"
      ]
     },
     "execution_count": 210,
     "metadata": {},
     "output_type": "execute_result"
    }
   ],
   "source": [
    "Data_Train['Duration'].unique()"
   ]
  },
  {
   "cell_type": "code",
   "execution_count": 211,
   "metadata": {},
   "outputs": [],
   "source": [
    "Data_Train.loc[Data_Train['Total_Stops'] == 'non-stop', 'Total_No_of_Stops'] = 0\n",
    "Data_Train.loc[Data_Train['Total_Stops'].isnull(), 'Total_No_of_Stops'] = 0\n",
    "Data_Train.loc[Data_Train['Total_Stops'] == '1 stop', 'Total_No_of_Stops'] = 1\n",
    "Data_Train.loc[Data_Train['Total_Stops'] == '2 stops', 'Total_No_of_Stops'] = 2\n",
    "Data_Train.loc[Data_Train['Total_Stops'] == '3 stops', 'Total_No_of_Stops'] = 3\n",
    "Data_Train.loc[Data_Train['Total_Stops'] == '4 stops', 'Total_No_of_Stops'] = 4\n",
    "\n",
    "\n",
    "# To Convert to Integer Type from Float Type\n",
    "Data_Train['Total_No_of_Stops'] = Data_Train['Total_No_of_Stops'].astype(int)"
   ]
  },
  {
   "cell_type": "code",
   "execution_count": 212,
   "metadata": {},
   "outputs": [],
   "source": [
    "# Drop Route and Total_Stops\n",
    "\n",
    "del Data_Train['Route']\n",
    "del Data_Train['Total_Stops']\n",
    "del Data_Train['Additional_Info']"
   ]
  },
  {
   "cell_type": "code",
   "execution_count": 213,
   "metadata": {},
   "outputs": [],
   "source": [
    "# Extracting Date / Month / Year of Journey\n",
    "\n",
    "Data_Train[['Day_of_Journey','Month_of_Journey','Year_of_Journey']] = Data_Train['Date_of_Journey'].str.split('/',expand=True)\n",
    "\n"
   ]
  },
  {
   "cell_type": "code",
   "execution_count": 214,
   "metadata": {},
   "outputs": [],
   "source": [
    "# Extracting Departure Time and Arrival Time\n",
    "\n",
    "Data_Train[['Departure_Hour','Departure_Minute']] = Data_Train['Dep_Time'].str.split(':',expand=True)\n",
    "\n",
    "Data_Train[\"Arrival_hour\"] = pd.to_datetime(Data_Train.Arrival_Time).dt.hour\n",
    "\n",
    "# Extracting Minutes\n",
    "Data_Train[\"Arrival_min\"] = pd.to_datetime(Data_Train.Arrival_Time).dt.minute"
   ]
  },
  {
   "cell_type": "code",
   "execution_count": 215,
   "metadata": {},
   "outputs": [],
   "source": [
    "# Drop Route and Total_Stops\n",
    "\n",
    "del Data_Train['Arrival_Time']\n",
    "del Data_Train['Dep_Time']\n",
    "del Data_Train['Date_of_Journey']"
   ]
  },
  {
   "cell_type": "code",
   "execution_count": 216,
   "metadata": {},
   "outputs": [],
   "source": [
    "Data_Train[['Duration_Hour','Duration_Minute_T1']] = Data_Train['Duration'].str.split('h',expand=True)\n",
    "Data_Train[['Duration_Minute','Duration_Minute_T2']] = Data_Train['Duration_Minute_T1'].str.split('m',expand=True)"
   ]
  },
  {
   "cell_type": "code",
   "execution_count": 217,
   "metadata": {},
   "outputs": [],
   "source": [
    "del Data_Train['Duration']\n",
    "del Data_Train['Duration_Minute_T1']\n",
    "del Data_Train['Duration_Minute_T2']"
   ]
  },
  {
   "cell_type": "code",
   "execution_count": 218,
   "metadata": {},
   "outputs": [],
   "source": [
    "Data_Train['Duration_Hour'] = Data_Train['Duration_Hour'].str.strip()\n",
    "Data_Train['Duration_Minute'] = Data_Train['Duration_Minute'].str.strip()"
   ]
  },
  {
   "cell_type": "code",
   "execution_count": 219,
   "metadata": {},
   "outputs": [],
   "source": [
    "#Data_Train['Duration_Minute'] = Data_Train['Duration_Minute'].fillna(0)\n",
    "\n",
    "Data_Train['Duration_Minute'] = Data_Train['Duration_Minute'].apply(lambda x: 0 if x == '' else x)\n",
    "Data_Train['Duration_Hour'] = Data_Train['Duration_Hour'].apply(lambda x: 0 if x == '' else x)\n",
    "\n",
    "Data_Train['Duration_Hour'] = Data_Train['Duration_Hour'].apply(lambda x: 0 if x == '5m' else x)"
   ]
  },
  {
   "cell_type": "code",
   "execution_count": 220,
   "metadata": {},
   "outputs": [
    {
     "data": {
      "text/plain": [
       "30    372\n",
       "20    263\n",
       "45    258\n",
       "0     253\n",
       "50    233\n",
       "15    232\n",
       "55    211\n",
       "35    210\n",
       "25    206\n",
       "40    166\n",
       "5     144\n",
       "10    122\n",
       "Name: Duration_Minute, dtype: int64"
      ]
     },
     "execution_count": 220,
     "metadata": {},
     "output_type": "execute_result"
    }
   ],
   "source": [
    "Data_Train['Duration_Minute'].value_counts()"
   ]
  },
  {
   "cell_type": "code",
   "execution_count": 221,
   "metadata": {},
   "outputs": [
    {
     "data": {
      "text/html": [
       "<div>\n",
       "<style scoped>\n",
       "    .dataframe tbody tr th:only-of-type {\n",
       "        vertical-align: middle;\n",
       "    }\n",
       "\n",
       "    .dataframe tbody tr th {\n",
       "        vertical-align: top;\n",
       "    }\n",
       "\n",
       "    .dataframe thead th {\n",
       "        text-align: right;\n",
       "    }\n",
       "</style>\n",
       "<table border=\"1\" class=\"dataframe\">\n",
       "  <thead>\n",
       "    <tr style=\"text-align: right;\">\n",
       "      <th></th>\n",
       "      <th>Source_Chennai</th>\n",
       "      <th>Source_Delhi</th>\n",
       "      <th>Source_Kolkata</th>\n",
       "      <th>Source_Mumbai</th>\n",
       "    </tr>\n",
       "  </thead>\n",
       "  <tbody>\n",
       "    <tr>\n",
       "      <th>0</th>\n",
       "      <td>0</td>\n",
       "      <td>1</td>\n",
       "      <td>0</td>\n",
       "      <td>0</td>\n",
       "    </tr>\n",
       "    <tr>\n",
       "      <th>1</th>\n",
       "      <td>0</td>\n",
       "      <td>0</td>\n",
       "      <td>1</td>\n",
       "      <td>0</td>\n",
       "    </tr>\n",
       "    <tr>\n",
       "      <th>2</th>\n",
       "      <td>0</td>\n",
       "      <td>1</td>\n",
       "      <td>0</td>\n",
       "      <td>0</td>\n",
       "    </tr>\n",
       "    <tr>\n",
       "      <th>3</th>\n",
       "      <td>0</td>\n",
       "      <td>1</td>\n",
       "      <td>0</td>\n",
       "      <td>0</td>\n",
       "    </tr>\n",
       "    <tr>\n",
       "      <th>4</th>\n",
       "      <td>0</td>\n",
       "      <td>0</td>\n",
       "      <td>0</td>\n",
       "      <td>0</td>\n",
       "    </tr>\n",
       "  </tbody>\n",
       "</table>\n",
       "</div>"
      ],
      "text/plain": [
       "   Source_Chennai  Source_Delhi  Source_Kolkata  Source_Mumbai\n",
       "0               0             1               0              0\n",
       "1               0             0               1              0\n",
       "2               0             1               0              0\n",
       "3               0             1               0              0\n",
       "4               0             0               0              0"
      ]
     },
     "execution_count": 221,
     "metadata": {},
     "output_type": "execute_result"
    }
   ],
   "source": [
    "# As Source is Nominal Categorical data we will perform OneHotEncoding\n",
    "\n",
    "Source = Data_Train[[\"Source\"]]\n",
    "Destination = Data_Train[[\"Destination\"]]\n",
    "Airline = Data_Train[[\"Airline\"]]\n",
    "\n",
    "Source = pd.get_dummies(Source, drop_first= True)\n",
    "Destination = pd.get_dummies(Destination, drop_first= True)\n",
    "Airline = pd.get_dummies(Airline, drop_first= True)\n",
    "\n",
    "Source.head()"
   ]
  },
  {
   "cell_type": "code",
   "execution_count": 222,
   "metadata": {},
   "outputs": [],
   "source": [
    "# Concatenate dataframe --> train_data + Airline + Source + Destination\n",
    "\n",
    "Data_Train = pd.concat([Data_Train, Airline, Source, Destination], axis = 1)\n",
    "Data_Train.drop([\"Airline\", \"Source\", \"Destination\"], axis = 1, inplace = True)"
   ]
  },
  {
   "cell_type": "code",
   "execution_count": 223,
   "metadata": {},
   "outputs": [],
   "source": [
    "#Data_Train.to_csv('Training_Data_Preprocessed.csv')\n",
    "Data_Train.to_csv('Test_Data_Preprocessed.csv')"
   ]
  },
  {
   "cell_type": "code",
   "execution_count": null,
   "metadata": {},
   "outputs": [],
   "source": []
  },
  {
   "cell_type": "code",
   "execution_count": null,
   "metadata": {},
   "outputs": [],
   "source": []
  }
 ],
 "metadata": {
  "kernelspec": {
   "display_name": "Python 3",
   "language": "python",
   "name": "python3"
  },
  "language_info": {
   "codemirror_mode": {
    "name": "ipython",
    "version": 3
   },
   "file_extension": ".py",
   "mimetype": "text/x-python",
   "name": "python",
   "nbconvert_exporter": "python",
   "pygments_lexer": "ipython3",
   "version": "3.8.3"
  }
 },
 "nbformat": 4,
 "nbformat_minor": 4
}
